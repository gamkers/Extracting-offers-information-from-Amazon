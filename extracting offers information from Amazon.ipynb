{
 "cells": [
  {
   "cell_type": "code",
   "execution_count": 9,
   "id": "b5a995ce",
   "metadata": {
    "scrolled": true
   },
   "outputs": [],
   "source": [
    "from bs4 import BeautifulSoup\n",
    "import requests\n"
   ]
  },
  {
   "cell_type": "code",
   "execution_count": 10,
   "id": "9d226c36",
   "metadata": {},
   "outputs": [
    {
     "name": "stdout",
     "output_type": "stream",
     "text": [
      "\n",
      "collecting offer details from amazon\n"
     ]
    }
   ],
   "source": [
    "url = \"https://www.grabon.in/amazon-deals/\"\n",
    "r = requests.get(url)\n",
    "data = BeautifulSoup(r.text, \"html.parser\")\n",
    "print(\"\\ncollecting offer details from amazon\")\n",
    "temp = data.find_all(\"div\", class_=\"g-deal\")"
   ]
  },
  {
   "cell_type": "code",
   "execution_count": 11,
   "id": "696cb954",
   "metadata": {},
   "outputs": [
    {
     "name": "stdout",
     "output_type": "stream",
     "text": [
      "\n",
      "Deal of the day  70 % OFFon Amazon Reforce Running Shoes for Women's Rs. 599 Rs. 1999 BEFORE OFFER PRICE\n",
      "\n",
      "collecting, and sending you the offers\n",
      "Deal of the day  70 % OFFon Amazon boAt Rockerz 510 Wireless Bluetooth On Ear Headphones with Mic Rs. 1199 Rs. 3990 BEFORE OFFER PRICE\n",
      "\n",
      "Deal of the day  78 % OFFon Amazon URBN 10000 mAh Li-Polymer Ultra Compact Power Bank Rs. 599 Rs. 2499 BEFORE OFFER PRICE\n",
      "\n",
      "Deal of the day  60 % OFFon Amazon boAt Airdopes 121v2 TWS Earbuds with Bluetooth V5.0 Rs. 1199 Rs. 2990 BEFORE OFFER PRICE\n"
     ]
    }
   ],
   "source": [
    "print(\"\\nDeal of the day\", temp[0].text.replace(\"   \", \"on\").replace(\"BUY NOW\", \"BEFORE OFFER PRICE\"))\n",
    "\n",
    "print(\"\\ncollecting, and sending you the offers\")\n",
    "print(\"Deal of the day\", temp[1].text.replace(\"   \", \"on\").replace(\"BUY NOW\", \"BEFORE OFFER PRICE\"))\n",
    "\n",
    "print(\"\\nDeal of the day\", temp[2].text.replace(\"   \", \"on\").replace(\"BUY NOW\", \"BEFORE OFFER PRICE\"))\n",
    "\n",
    "print(\"\\nDeal of the day\", temp[3].text.replace(\"   \", \"on\").replace(\"BUY NOW\", \"BEFORE OFFER PRICE\"))\n"
   ]
  },
  {
   "cell_type": "code",
   "execution_count": null,
   "id": "3ba2827e",
   "metadata": {},
   "outputs": [],
   "source": []
  }
 ],
 "metadata": {
  "kernelspec": {
   "display_name": "Python 3",
   "language": "python",
   "name": "python3"
  },
  "language_info": {
   "codemirror_mode": {
    "name": "ipython",
    "version": 3
   },
   "file_extension": ".py",
   "mimetype": "text/x-python",
   "name": "python",
   "nbconvert_exporter": "python",
   "pygments_lexer": "ipython3",
   "version": "3.8.8"
  }
 },
 "nbformat": 4,
 "nbformat_minor": 5
}
